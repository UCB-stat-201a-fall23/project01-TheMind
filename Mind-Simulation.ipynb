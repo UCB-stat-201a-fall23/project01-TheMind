{
 "cells": [
  {
   "cell_type": "markdown",
   "id": "4f2e3179-b4ae-4243-92eb-ed8d86df7c10",
   "metadata": {},
   "source": [
    "## Simulation"
   ]
  },
  {
   "cell_type": "code",
   "execution_count": 1,
   "id": "130e891e-23be-4df7-8209-9c95c8ec6852",
   "metadata": {},
   "outputs": [],
   "source": [
    "import numpy as np\n",
    "import matplotlib.pyplot as plt"
   ]
  },
  {
   "cell_type": "code",
   "execution_count": 24,
   "id": "e4c2b253-1621-459a-ba5a-a76d6f46a64b",
   "metadata": {},
   "outputs": [],
   "source": [
    "def sample_cards(N, n, k):\n",
    "    \"\"\"\n",
    "    Generates a simulated sample of how the cards are shuffled among players. \n",
    "    \n",
    "    Arguments: \n",
    "        - N : Total number of cards\n",
    "        - n : Number of players\n",
    "        - k : Number of cards per player\n",
    "        \n",
    "    Returns: \n",
    "        - 2D numpy array where each row represent each player and each column their card in ascending order. \n",
    "    \"\"\"\n",
    "    \n",
    "    assert n * k <= N, \"There are not enough cards for all the players!\"\n",
    "    \n",
    "    _cards = np.random.choice(a=np.arange(1, N+1), size=n*k, replace=False)\n",
    "    _cards = _cards.reshape(n,k)\n",
    "    _cards.sort(axis=1)\n",
    "    return _cards"
   ]
  },
  {
   "cell_type": "code",
   "execution_count": 25,
   "id": "1331d9b0-e485-4417-8c7d-4ce407c6e693",
   "metadata": {},
   "outputs": [
    {
     "data": {
      "text/plain": [
       "array([[ 53,  63,  82],\n",
       "       [ 16,  67,  95],\n",
       "       [  1,  35,  71],\n",
       "       [ 40,  57,  75],\n",
       "       [ 24,  44, 100],\n",
       "       [ 56,  93,  97]])"
      ]
     },
     "execution_count": 25,
     "metadata": {},
     "output_type": "execute_result"
    }
   ],
   "source": [
    "cards = sample_cards(100, 6, 3)\n",
    "cards"
   ]
  },
  {
   "cell_type": "code",
   "execution_count": 26,
   "id": "36f4998e-61e0-4acd-b292-b447a0d6a8ed",
   "metadata": {},
   "outputs": [
    {
     "data": {
      "text/plain": [
       "(array([53, 63, 82]), array([16, 67, 95]))"
      ]
     },
     "execution_count": 26,
     "metadata": {},
     "output_type": "execute_result"
    }
   ],
   "source": [
    "player0 = cards[0,:]\n",
    "player1 = cards[1,:]\n",
    "player0, player1"
   ]
  },
  {
   "cell_type": "markdown",
   "id": "08d9de1a-3dc6-49ba-b08c-dba034839906",
   "metadata": {},
   "source": [
    "The lowest card in the game is"
   ]
  },
  {
   "cell_type": "code",
   "execution_count": 27,
   "id": "f2e54641-0ec3-4451-b8b3-371580ede9b7",
   "metadata": {},
   "outputs": [
    {
     "data": {
      "text/plain": [
       "1"
      ]
     },
     "execution_count": 27,
     "metadata": {},
     "output_type": "execute_result"
    }
   ],
   "source": [
    "np.min(cards)"
   ]
  },
  {
   "cell_type": "code",
   "execution_count": 23,
   "id": "2f4766c6-7334-4d24-a0b5-20e5bfd44a63",
   "metadata": {},
   "outputs": [
    {
     "data": {
      "text/plain": [
       "array([1, 2, 3, 4])"
      ]
     },
     "execution_count": 23,
     "metadata": {},
     "output_type": "execute_result"
    }
   ],
   "source": [
    "np.arange(1, 5)"
   ]
  },
  {
   "cell_type": "markdown",
   "id": "755260c8-4ec3-49ed-a783-99629dd51cb8",
   "metadata": {},
   "source": [
    "### What is the distribution of the lowest number in the sample? \n",
    "\n",
    "Repeat the sampling of the cards multiple times for the same choice of `N`, `n` and `k` and plot the distribution of the lowest number in the sample. Use an [histogram](https://matplotlib.org/stable/api/_as_gen/matplotlib.pyplot.hist.html) to plot the distribution and set the bins to be the available integer number cards. "
   ]
  },
  {
   "cell_type": "code",
   "execution_count": null,
   "id": "12fe9c17-000b-472a-8380-915f6dfda5df",
   "metadata": {},
   "outputs": [],
   "source": [
    "# To Do cell"
   ]
  },
  {
   "cell_type": "markdown",
   "id": "c14b7f5b-23b7-4a73-b67b-8d4433fae9e2",
   "metadata": {},
   "source": [
    "### Compare the obtained distribution with other distributions in the literature. "
   ]
  },
  {
   "cell_type": "code",
   "execution_count": null,
   "id": "e12c657c-3a67-40dc-8401-79af3055a5a3",
   "metadata": {},
   "outputs": [],
   "source": []
  },
  {
   "cell_type": "markdown",
   "id": "0ad19b6e-5603-4b66-b379-6b79f5aaedf6",
   "metadata": {},
   "source": [
    "### What happens when $n * k << N$?"
   ]
  },
  {
   "cell_type": "code",
   "execution_count": null,
   "id": "bad3cabc-f8bc-482e-ac6c-1d684dce5eed",
   "metadata": {},
   "outputs": [],
   "source": []
  },
  {
   "cell_type": "code",
   "execution_count": null,
   "id": "af97c85a-009d-44a9-9159-09bf4f0a9852",
   "metadata": {},
   "outputs": [],
   "source": []
  }
 ],
 "metadata": {
  "kernelspec": {
   "display_name": "Python 3 (ipykernel)",
   "language": "python",
   "name": "python3"
  },
  "language_info": {
   "codemirror_mode": {
    "name": "ipython",
    "version": 3
   },
   "file_extension": ".py",
   "mimetype": "text/x-python",
   "name": "python",
   "nbconvert_exporter": "python",
   "pygments_lexer": "ipython3",
   "version": "3.9.15"
  }
 },
 "nbformat": 4,
 "nbformat_minor": 5
}
